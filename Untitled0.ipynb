{
  "nbformat": 4,
  "nbformat_minor": 0,
  "metadata": {
    "colab": {
      "name": "Untitled0.ipynb",
      "provenance": [],
      "authorship_tag": "ABX9TyM1e+iRxKe9GLsxIQ6/uLAw",
      "include_colab_link": true
    },
    "kernelspec": {
      "name": "python3",
      "display_name": "Python 3"
    },
    "language_info": {
      "name": "python"
    }
  },
  "cells": [
    {
      "cell_type": "markdown",
      "metadata": {
        "id": "view-in-github",
        "colab_type": "text"
      },
      "source": [
        "<a href=\"https://colab.research.google.com/github/Anavireddy404/mp/blob/main/Untitled0.ipynb\" target=\"_parent\"><img src=\"https://colab.research.google.com/assets/colab-badge.svg\" alt=\"Open In Colab\"/></a>"
      ]
    },
    {
      "cell_type": "code",
      "execution_count": 1,
      "metadata": {
        "id": "IRambV6M69TD"
      },
      "outputs": [],
      "source": [
        "class employee:\n",
        "    def __init__(self,empno,name,designation):\n",
        "        self.empno=empno\n",
        "        self.name=name\n",
        "        self.designation=designation\n",
        "    def display(self):\n",
        "        print('empno:',self.empno)\n",
        "        print('name:',self.name)\n",
        "        print('designation',self.designation)\n",
        "class qualification(employee):\n",
        "    def __init__(self,LIG,PG,experience):\n",
        "        self.LIG=LIG\n",
        "        self.PG=PG\n",
        "        self.experience=experience\n",
        "        def display(self):\n",
        "            print('LIG',self.LIG)\n",
        "            print('PG',self.PG)\n",
        "            print('experience:',self.experience)"
      ]
    }
  ]
}